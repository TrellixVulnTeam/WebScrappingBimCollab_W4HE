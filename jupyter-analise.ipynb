{
 "cells": [
  {
   "cell_type": "markdown",
   "metadata": {},
   "source": [
    "#Coleta de dados"
   ]
  },
  {
   "cell_type": "code",
   "execution_count": 2,
   "metadata": {},
   "outputs": [
    {
     "name": "stdout",
     "output_type": "stream",
     "text": [
      "{'status': [0, 'Realizando Login, email adicionado']}\n",
      "{'status': [1, 'Realizando login, senha adicionada']}\n",
      "{'status': [2, 'Falha na inserção da companhia']}\n",
      "{'status': [3, 'Projeto selecionado']}\n",
      "{'status': [4, 'Área das incompatibilidades']}\n",
      "{'status': [5, 'Todos os dados abertos']}\n",
      "{'status': [6, 'Coletando incompatibilidade 0 de 157']}\n",
      "{'status': [6, 'Coletando incompatibilidade 1 de 157']}\n",
      "{'status': [6, 'Coletando incompatibilidade 2 de 157']}\n",
      "{'status': [6, 'Coletando incompatibilidade 3 de 157']}\n",
      "{'status': [6, 'Coletando incompatibilidade 4 de 157']}\n",
      "{'status': [6, 'Coletando incompatibilidade 5 de 157']}\n",
      "{'status': [6, 'Coletando incompatibilidade 6 de 157']}\n",
      "{'status': [6, 'Coletando incompatibilidade 7 de 157']}\n",
      "{'status': [6, 'Coletando incompatibilidade 8 de 157']}\n",
      "{'status': [6, 'Coletando incompatibilidade 9 de 157']}\n",
      "{'status': [6, 'Coletando incompatibilidade 10 de 157']}\n",
      "{'status': [6, 'Coletando incompatibilidade 11 de 157']}\n",
      "{'status': [6, 'Coletando incompatibilidade 12 de 157']}\n",
      "{'status': [6, 'Coletando incompatibilidade 13 de 157']}\n",
      "{'status': [6, 'Coletando incompatibilidade 14 de 157']}\n",
      "{'status': [6, 'Coletando incompatibilidade 15 de 157']}\n"
     ]
    },
    {
     "ename": "KeyboardInterrupt",
     "evalue": "",
     "output_type": "error",
     "traceback": [
      "\u001b[1;31m---------------------------------------------------------------------------\u001b[0m",
      "\u001b[1;31mKeyboardInterrupt\u001b[0m                         Traceback (most recent call last)",
      "\u001b[1;32mc:\\Users\\ian10\\Documents\\scrapping-python-bimcollab\\jupyter-analise.ipynb Célula: 2\u001b[0m in \u001b[0;36m<cell line: 17>\u001b[1;34m()\u001b[0m\n\u001b[0;32m     <a href='vscode-notebook-cell:/c%3A/Users/ian10/Documents/scrapping-python-bimcollab/jupyter-analise.ipynb#ch0000001?line=14'>15</a>\u001b[0m browser\u001b[39m.\u001b[39mgoToIssues()\n\u001b[0;32m     <a href='vscode-notebook-cell:/c%3A/Users/ian10/Documents/scrapping-python-bimcollab/jupyter-analise.ipynb#ch0000001?line=15'>16</a>\u001b[0m browser\u001b[39m.\u001b[39mopenAll()\n\u001b[1;32m---> <a href='vscode-notebook-cell:/c%3A/Users/ian10/Documents/scrapping-python-bimcollab/jupyter-analise.ipynb#ch0000001?line=16'>17</a>\u001b[0m browser\u001b[39m.\u001b[39;49mhtmlGenerator()\n",
      "File \u001b[1;32mc:\\Users\\ian10\\Documents\\scrapping-python-bimcollab\\backend\\scrapper\\scrapper.py:159\u001b[0m, in \u001b[0;36mScrapperResearch.htmlGenerator\u001b[1;34m(self)\u001b[0m\n\u001b[0;32m    156\u001b[0m status \u001b[39m=\u001b[39m ResultStatus(\u001b[39m6\u001b[39m,\u001b[39mf\u001b[39m\u001b[39m'\u001b[39m\u001b[39mColetando incompatibilidade \u001b[39m\u001b[39m{\u001b[39;00mi\u001b[39m}\u001b[39;00m\u001b[39m de \u001b[39m\u001b[39m{\u001b[39;00m\u001b[39mlen\u001b[39m(issueList)\u001b[39m}\u001b[39;00m\u001b[39m'\u001b[39m)\n\u001b[0;32m    157\u001b[0m \u001b[39mprint\u001b[39m(status\u001b[39m.\u001b[39mstatusGenerate())\n\u001b[1;32m--> 159\u001b[0m \u001b[39mself\u001b[39;49m\u001b[39m.\u001b[39;49mnavegador\u001b[39m.\u001b[39;49mfind_element_by_css_selector(\u001b[39mf\u001b[39;49m\u001b[39m\"\u001b[39;49m\u001b[39m#LabelIndex_\u001b[39;49m\u001b[39m{\u001b[39;49;00mi\u001b[39m}\u001b[39;49;00m\u001b[39m\"\u001b[39;49m)\u001b[39m.\u001b[39;49mclick()\n\u001b[0;32m    160\u001b[0m html \u001b[39m=\u001b[39m bs(\u001b[39mself\u001b[39m\u001b[39m.\u001b[39mnavegador\u001b[39m.\u001b[39mpage_source, \u001b[39m'\u001b[39m\u001b[39mhtml.parser\u001b[39m\u001b[39m'\u001b[39m)\n\u001b[0;32m    161\u001b[0m \u001b[39mself\u001b[39m\u001b[39m.\u001b[39mhtmlList\u001b[39m.\u001b[39mappend(html)\n",
      "File \u001b[1;32mc:\\Users\\ian10\\Documents\\scrapping-python-bimcollab\\virtual-scrapper\\lib\\site-packages\\selenium\\webdriver\\remote\\webelement.py:81\u001b[0m, in \u001b[0;36mWebElement.click\u001b[1;34m(self)\u001b[0m\n\u001b[0;32m     79\u001b[0m \u001b[39mdef\u001b[39;00m \u001b[39mclick\u001b[39m(\u001b[39mself\u001b[39m) \u001b[39m-\u001b[39m\u001b[39m>\u001b[39m \u001b[39mNone\u001b[39;00m:\n\u001b[0;32m     80\u001b[0m     \u001b[39m\"\"\"Clicks the element.\"\"\"\u001b[39;00m\n\u001b[1;32m---> 81\u001b[0m     \u001b[39mself\u001b[39;49m\u001b[39m.\u001b[39;49m_execute(Command\u001b[39m.\u001b[39;49mCLICK_ELEMENT)\n",
      "File \u001b[1;32mc:\\Users\\ian10\\Documents\\scrapping-python-bimcollab\\virtual-scrapper\\lib\\site-packages\\selenium\\webdriver\\remote\\webelement.py:740\u001b[0m, in \u001b[0;36mWebElement._execute\u001b[1;34m(self, command, params)\u001b[0m\n\u001b[0;32m    738\u001b[0m     params \u001b[39m=\u001b[39m {}\n\u001b[0;32m    739\u001b[0m params[\u001b[39m'\u001b[39m\u001b[39mid\u001b[39m\u001b[39m'\u001b[39m] \u001b[39m=\u001b[39m \u001b[39mself\u001b[39m\u001b[39m.\u001b[39m_id\n\u001b[1;32m--> 740\u001b[0m \u001b[39mreturn\u001b[39;00m \u001b[39mself\u001b[39;49m\u001b[39m.\u001b[39;49m_parent\u001b[39m.\u001b[39;49mexecute(command, params)\n",
      "File \u001b[1;32mc:\\Users\\ian10\\Documents\\scrapping-python-bimcollab\\virtual-scrapper\\lib\\site-packages\\selenium\\webdriver\\remote\\webdriver.py:428\u001b[0m, in \u001b[0;36mWebDriver.execute\u001b[1;34m(self, driver_command, params)\u001b[0m\n\u001b[0;32m    425\u001b[0m         params[\u001b[39m'\u001b[39m\u001b[39msessionId\u001b[39m\u001b[39m'\u001b[39m] \u001b[39m=\u001b[39m \u001b[39mself\u001b[39m\u001b[39m.\u001b[39msession_id\n\u001b[0;32m    427\u001b[0m params \u001b[39m=\u001b[39m \u001b[39mself\u001b[39m\u001b[39m.\u001b[39m_wrap_value(params)\n\u001b[1;32m--> 428\u001b[0m response \u001b[39m=\u001b[39m \u001b[39mself\u001b[39;49m\u001b[39m.\u001b[39;49mcommand_executor\u001b[39m.\u001b[39;49mexecute(driver_command, params)\n\u001b[0;32m    429\u001b[0m \u001b[39mif\u001b[39;00m response:\n\u001b[0;32m    430\u001b[0m     \u001b[39mself\u001b[39m\u001b[39m.\u001b[39merror_handler\u001b[39m.\u001b[39mcheck_response(response)\n",
      "File \u001b[1;32mc:\\Users\\ian10\\Documents\\scrapping-python-bimcollab\\virtual-scrapper\\lib\\site-packages\\selenium\\webdriver\\remote\\remote_connection.py:347\u001b[0m, in \u001b[0;36mRemoteConnection.execute\u001b[1;34m(self, command, params)\u001b[0m\n\u001b[0;32m    345\u001b[0m data \u001b[39m=\u001b[39m utils\u001b[39m.\u001b[39mdump_json(params)\n\u001b[0;32m    346\u001b[0m url \u001b[39m=\u001b[39m \u001b[39mf\u001b[39m\u001b[39m\"\u001b[39m\u001b[39m{\u001b[39;00m\u001b[39mself\u001b[39m\u001b[39m.\u001b[39m_url\u001b[39m}\u001b[39;00m\u001b[39m{\u001b[39;00mpath\u001b[39m}\u001b[39;00m\u001b[39m\"\u001b[39m\n\u001b[1;32m--> 347\u001b[0m \u001b[39mreturn\u001b[39;00m \u001b[39mself\u001b[39;49m\u001b[39m.\u001b[39;49m_request(command_info[\u001b[39m0\u001b[39;49m], url, body\u001b[39m=\u001b[39;49mdata)\n",
      "File \u001b[1;32mc:\\Users\\ian10\\Documents\\scrapping-python-bimcollab\\virtual-scrapper\\lib\\site-packages\\selenium\\webdriver\\remote\\remote_connection.py:369\u001b[0m, in \u001b[0;36mRemoteConnection._request\u001b[1;34m(self, method, url, body)\u001b[0m\n\u001b[0;32m    366\u001b[0m     body \u001b[39m=\u001b[39m \u001b[39mNone\u001b[39;00m\n\u001b[0;32m    368\u001b[0m \u001b[39mif\u001b[39;00m \u001b[39mself\u001b[39m\u001b[39m.\u001b[39mkeep_alive:\n\u001b[1;32m--> 369\u001b[0m     response \u001b[39m=\u001b[39m \u001b[39mself\u001b[39;49m\u001b[39m.\u001b[39;49m_conn\u001b[39m.\u001b[39;49mrequest(method, url, body\u001b[39m=\u001b[39;49mbody, headers\u001b[39m=\u001b[39;49mheaders)\n\u001b[0;32m    370\u001b[0m     statuscode \u001b[39m=\u001b[39m response\u001b[39m.\u001b[39mstatus\n\u001b[0;32m    371\u001b[0m \u001b[39melse\u001b[39;00m:\n",
      "File \u001b[1;32mc:\\Users\\ian10\\Documents\\scrapping-python-bimcollab\\virtual-scrapper\\lib\\site-packages\\urllib3\\request.py:78\u001b[0m, in \u001b[0;36mRequestMethods.request\u001b[1;34m(self, method, url, fields, headers, **urlopen_kw)\u001b[0m\n\u001b[0;32m     74\u001b[0m     \u001b[39mreturn\u001b[39;00m \u001b[39mself\u001b[39m\u001b[39m.\u001b[39mrequest_encode_url(\n\u001b[0;32m     75\u001b[0m         method, url, fields\u001b[39m=\u001b[39mfields, headers\u001b[39m=\u001b[39mheaders, \u001b[39m*\u001b[39m\u001b[39m*\u001b[39murlopen_kw\n\u001b[0;32m     76\u001b[0m     )\n\u001b[0;32m     77\u001b[0m \u001b[39melse\u001b[39;00m:\n\u001b[1;32m---> 78\u001b[0m     \u001b[39mreturn\u001b[39;00m \u001b[39mself\u001b[39m\u001b[39m.\u001b[39mrequest_encode_body(\n\u001b[0;32m     79\u001b[0m         method, url, fields\u001b[39m=\u001b[39mfields, headers\u001b[39m=\u001b[39mheaders, \u001b[39m*\u001b[39m\u001b[39m*\u001b[39murlopen_kw\n\u001b[0;32m     80\u001b[0m     )\n",
      "File \u001b[1;32mc:\\Users\\ian10\\Documents\\scrapping-python-bimcollab\\virtual-scrapper\\lib\\site-packages\\urllib3\\request.py:170\u001b[0m, in \u001b[0;36mRequestMethods.request_encode_body\u001b[1;34m(self, method, url, fields, headers, encode_multipart, multipart_boundary, **urlopen_kw)\u001b[0m\n\u001b[0;32m    167\u001b[0m extra_kw[\u001b[39m\"\u001b[39m\u001b[39mheaders\u001b[39m\u001b[39m\"\u001b[39m]\u001b[39m.\u001b[39mupdate(headers)\n\u001b[0;32m    168\u001b[0m extra_kw\u001b[39m.\u001b[39mupdate(urlopen_kw)\n\u001b[1;32m--> 170\u001b[0m \u001b[39mreturn\u001b[39;00m \u001b[39mself\u001b[39m\u001b[39m.\u001b[39murlopen(method, url, \u001b[39m*\u001b[39m\u001b[39m*\u001b[39mextra_kw)\n",
      "File \u001b[1;32mc:\\Users\\ian10\\Documents\\scrapping-python-bimcollab\\virtual-scrapper\\lib\\site-packages\\urllib3\\poolmanager.py:376\u001b[0m, in \u001b[0;36mPoolManager.urlopen\u001b[1;34m(self, method, url, redirect, **kw)\u001b[0m\n\u001b[0;32m    374\u001b[0m     response \u001b[39m=\u001b[39m conn\u001b[39m.\u001b[39murlopen(method, url, \u001b[39m*\u001b[39m\u001b[39m*\u001b[39mkw)\n\u001b[0;32m    375\u001b[0m \u001b[39melse\u001b[39;00m:\n\u001b[1;32m--> 376\u001b[0m     response \u001b[39m=\u001b[39m conn\u001b[39m.\u001b[39murlopen(method, u\u001b[39m.\u001b[39mrequest_uri, \u001b[39m*\u001b[39m\u001b[39m*\u001b[39mkw)\n\u001b[0;32m    378\u001b[0m redirect_location \u001b[39m=\u001b[39m redirect \u001b[39mand\u001b[39;00m response\u001b[39m.\u001b[39mget_redirect_location()\n\u001b[0;32m    379\u001b[0m \u001b[39mif\u001b[39;00m \u001b[39mnot\u001b[39;00m redirect_location:\n",
      "File \u001b[1;32mc:\\Users\\ian10\\Documents\\scrapping-python-bimcollab\\virtual-scrapper\\lib\\site-packages\\urllib3\\connectionpool.py:703\u001b[0m, in \u001b[0;36mHTTPConnectionPool.urlopen\u001b[1;34m(self, method, url, body, headers, retries, redirect, assert_same_host, timeout, pool_timeout, release_conn, chunked, body_pos, **response_kw)\u001b[0m\n\u001b[0;32m    700\u001b[0m     \u001b[39mself\u001b[39m\u001b[39m.\u001b[39m_prepare_proxy(conn)\n\u001b[0;32m    702\u001b[0m \u001b[39m# Make the request on the httplib connection object.\u001b[39;00m\n\u001b[1;32m--> 703\u001b[0m httplib_response \u001b[39m=\u001b[39m \u001b[39mself\u001b[39;49m\u001b[39m.\u001b[39;49m_make_request(\n\u001b[0;32m    704\u001b[0m     conn,\n\u001b[0;32m    705\u001b[0m     method,\n\u001b[0;32m    706\u001b[0m     url,\n\u001b[0;32m    707\u001b[0m     timeout\u001b[39m=\u001b[39;49mtimeout_obj,\n\u001b[0;32m    708\u001b[0m     body\u001b[39m=\u001b[39;49mbody,\n\u001b[0;32m    709\u001b[0m     headers\u001b[39m=\u001b[39;49mheaders,\n\u001b[0;32m    710\u001b[0m     chunked\u001b[39m=\u001b[39;49mchunked,\n\u001b[0;32m    711\u001b[0m )\n\u001b[0;32m    713\u001b[0m \u001b[39m# If we're going to release the connection in ``finally:``, then\u001b[39;00m\n\u001b[0;32m    714\u001b[0m \u001b[39m# the response doesn't need to know about the connection. Otherwise\u001b[39;00m\n\u001b[0;32m    715\u001b[0m \u001b[39m# it will also try to release it and we'll have a double-release\u001b[39;00m\n\u001b[0;32m    716\u001b[0m \u001b[39m# mess.\u001b[39;00m\n\u001b[0;32m    717\u001b[0m response_conn \u001b[39m=\u001b[39m conn \u001b[39mif\u001b[39;00m \u001b[39mnot\u001b[39;00m release_conn \u001b[39melse\u001b[39;00m \u001b[39mNone\u001b[39;00m\n",
      "File \u001b[1;32mc:\\Users\\ian10\\Documents\\scrapping-python-bimcollab\\virtual-scrapper\\lib\\site-packages\\urllib3\\connectionpool.py:449\u001b[0m, in \u001b[0;36mHTTPConnectionPool._make_request\u001b[1;34m(self, conn, method, url, timeout, chunked, **httplib_request_kw)\u001b[0m\n\u001b[0;32m    444\u001b[0m             httplib_response \u001b[39m=\u001b[39m conn\u001b[39m.\u001b[39mgetresponse()\n\u001b[0;32m    445\u001b[0m         \u001b[39mexcept\u001b[39;00m \u001b[39mBaseException\u001b[39;00m \u001b[39mas\u001b[39;00m e:\n\u001b[0;32m    446\u001b[0m             \u001b[39m# Remove the TypeError from the exception chain in\u001b[39;00m\n\u001b[0;32m    447\u001b[0m             \u001b[39m# Python 3 (including for exceptions like SystemExit).\u001b[39;00m\n\u001b[0;32m    448\u001b[0m             \u001b[39m# Otherwise it looks like a bug in the code.\u001b[39;00m\n\u001b[1;32m--> 449\u001b[0m             six\u001b[39m.\u001b[39;49mraise_from(e, \u001b[39mNone\u001b[39;49;00m)\n\u001b[0;32m    450\u001b[0m \u001b[39mexcept\u001b[39;00m (SocketTimeout, BaseSSLError, SocketError) \u001b[39mas\u001b[39;00m e:\n\u001b[0;32m    451\u001b[0m     \u001b[39mself\u001b[39m\u001b[39m.\u001b[39m_raise_timeout(err\u001b[39m=\u001b[39me, url\u001b[39m=\u001b[39murl, timeout_value\u001b[39m=\u001b[39mread_timeout)\n",
      "File \u001b[1;32m<string>:3\u001b[0m, in \u001b[0;36mraise_from\u001b[1;34m(value, from_value)\u001b[0m\n",
      "File \u001b[1;32mc:\\Users\\ian10\\Documents\\scrapping-python-bimcollab\\virtual-scrapper\\lib\\site-packages\\urllib3\\connectionpool.py:444\u001b[0m, in \u001b[0;36mHTTPConnectionPool._make_request\u001b[1;34m(self, conn, method, url, timeout, chunked, **httplib_request_kw)\u001b[0m\n\u001b[0;32m    441\u001b[0m \u001b[39mexcept\u001b[39;00m \u001b[39mTypeError\u001b[39;00m:\n\u001b[0;32m    442\u001b[0m     \u001b[39m# Python 3\u001b[39;00m\n\u001b[0;32m    443\u001b[0m     \u001b[39mtry\u001b[39;00m:\n\u001b[1;32m--> 444\u001b[0m         httplib_response \u001b[39m=\u001b[39m conn\u001b[39m.\u001b[39;49mgetresponse()\n\u001b[0;32m    445\u001b[0m     \u001b[39mexcept\u001b[39;00m \u001b[39mBaseException\u001b[39;00m \u001b[39mas\u001b[39;00m e:\n\u001b[0;32m    446\u001b[0m         \u001b[39m# Remove the TypeError from the exception chain in\u001b[39;00m\n\u001b[0;32m    447\u001b[0m         \u001b[39m# Python 3 (including for exceptions like SystemExit).\u001b[39;00m\n\u001b[0;32m    448\u001b[0m         \u001b[39m# Otherwise it looks like a bug in the code.\u001b[39;00m\n\u001b[0;32m    449\u001b[0m         six\u001b[39m.\u001b[39mraise_from(e, \u001b[39mNone\u001b[39;00m)\n",
      "File \u001b[1;32m~\\AppData\\Local\\Programs\\Python\\Python310\\lib\\http\\client.py:1374\u001b[0m, in \u001b[0;36mHTTPConnection.getresponse\u001b[1;34m(self)\u001b[0m\n\u001b[0;32m   1372\u001b[0m \u001b[39mtry\u001b[39;00m:\n\u001b[0;32m   1373\u001b[0m     \u001b[39mtry\u001b[39;00m:\n\u001b[1;32m-> 1374\u001b[0m         response\u001b[39m.\u001b[39;49mbegin()\n\u001b[0;32m   1375\u001b[0m     \u001b[39mexcept\u001b[39;00m \u001b[39mConnectionError\u001b[39;00m:\n\u001b[0;32m   1376\u001b[0m         \u001b[39mself\u001b[39m\u001b[39m.\u001b[39mclose()\n",
      "File \u001b[1;32m~\\AppData\\Local\\Programs\\Python\\Python310\\lib\\http\\client.py:318\u001b[0m, in \u001b[0;36mHTTPResponse.begin\u001b[1;34m(self)\u001b[0m\n\u001b[0;32m    316\u001b[0m \u001b[39m# read until we get a non-100 response\u001b[39;00m\n\u001b[0;32m    317\u001b[0m \u001b[39mwhile\u001b[39;00m \u001b[39mTrue\u001b[39;00m:\n\u001b[1;32m--> 318\u001b[0m     version, status, reason \u001b[39m=\u001b[39m \u001b[39mself\u001b[39;49m\u001b[39m.\u001b[39;49m_read_status()\n\u001b[0;32m    319\u001b[0m     \u001b[39mif\u001b[39;00m status \u001b[39m!=\u001b[39m CONTINUE:\n\u001b[0;32m    320\u001b[0m         \u001b[39mbreak\u001b[39;00m\n",
      "File \u001b[1;32m~\\AppData\\Local\\Programs\\Python\\Python310\\lib\\http\\client.py:279\u001b[0m, in \u001b[0;36mHTTPResponse._read_status\u001b[1;34m(self)\u001b[0m\n\u001b[0;32m    278\u001b[0m \u001b[39mdef\u001b[39;00m \u001b[39m_read_status\u001b[39m(\u001b[39mself\u001b[39m):\n\u001b[1;32m--> 279\u001b[0m     line \u001b[39m=\u001b[39m \u001b[39mstr\u001b[39m(\u001b[39mself\u001b[39;49m\u001b[39m.\u001b[39;49mfp\u001b[39m.\u001b[39;49mreadline(_MAXLINE \u001b[39m+\u001b[39;49m \u001b[39m1\u001b[39;49m), \u001b[39m\"\u001b[39m\u001b[39miso-8859-1\u001b[39m\u001b[39m\"\u001b[39m)\n\u001b[0;32m    280\u001b[0m     \u001b[39mif\u001b[39;00m \u001b[39mlen\u001b[39m(line) \u001b[39m>\u001b[39m _MAXLINE:\n\u001b[0;32m    281\u001b[0m         \u001b[39mraise\u001b[39;00m LineTooLong(\u001b[39m\"\u001b[39m\u001b[39mstatus line\u001b[39m\u001b[39m\"\u001b[39m)\n",
      "File \u001b[1;32m~\\AppData\\Local\\Programs\\Python\\Python310\\lib\\socket.py:705\u001b[0m, in \u001b[0;36mSocketIO.readinto\u001b[1;34m(self, b)\u001b[0m\n\u001b[0;32m    703\u001b[0m \u001b[39mwhile\u001b[39;00m \u001b[39mTrue\u001b[39;00m:\n\u001b[0;32m    704\u001b[0m     \u001b[39mtry\u001b[39;00m:\n\u001b[1;32m--> 705\u001b[0m         \u001b[39mreturn\u001b[39;00m \u001b[39mself\u001b[39;49m\u001b[39m.\u001b[39;49m_sock\u001b[39m.\u001b[39;49mrecv_into(b)\n\u001b[0;32m    706\u001b[0m     \u001b[39mexcept\u001b[39;00m timeout:\n\u001b[0;32m    707\u001b[0m         \u001b[39mself\u001b[39m\u001b[39m.\u001b[39m_timeout_occurred \u001b[39m=\u001b[39m \u001b[39mTrue\u001b[39;00m\n",
      "\u001b[1;31mKeyboardInterrupt\u001b[0m: "
     ]
    }
   ],
   "source": [
    "from backend.scrapper.scrapper import ScrapperResearch, ScrapperColect\n",
    "from data.dataSave import dbBuildCSV\n",
    "\n",
    "email = \"camaragibe@projete5d.com.br\"\n",
    "password = \"@Timeprojete5d\"\n",
    "local_save = \"data\"\n",
    "\n",
    "browser = ScrapperResearch(email,password,local_save)\n",
    "\n",
    "browser.openResearch()\n",
    "browser.addLogin()\n",
    "browser.addSenha()\n",
    "browser.addCompany()\n",
    "browser.selectProject()\n",
    "browser.goToIssues()\n",
    "browser.openAll()\n",
    "browser.htmlGenerator()\n"
   ]
  },
  {
   "cell_type": "code",
   "execution_count": 9,
   "metadata": {},
   "outputs": [
    {
     "name": "stdout",
     "output_type": "stream",
     "text": [
      "{'status': [11, 'Número 23 coletado']}\n",
      "{'status': [13, 'Título coletado']}\n",
      "{'status': [12, 'Status coletado']}\n",
      "{'status': [14, 'Empreendimento coletado']}\n",
      "{'status': [15, 'Descrição coletada']}\n",
      "{'status': [16, 'Etiqueta coletada']}\n",
      "{'status': [17, 'Responsável coletado']}\n",
      "{'status': [18, 'Fase coletada']}\n",
      "{'status': [19, 'Tipo coletado']}\n",
      "{'status': [20, 'Localização coletada']}\n",
      "{'status': [21, 'Prazo coletado']}\n",
      "{'status': [22, 'Prioridade coletada']}\n",
      "{'status': [23, 'Última modificação coletada']}\n",
      "{'status': [23, 'Última modificação coletada']}\n"
     ]
    },
    {
     "data": {
      "text/plain": [
       "{'ID': ['23'],\n",
       " 'Título': ['3162-Tubulação'],\n",
       " 'Status': ['Active'],\n",
       " 'Descrição': ['I-S'],\n",
       " 'Empreendimento': ['5D - QUINTA DOS CAMARÁS'],\n",
       " 'Etiqueta': ['Drenagem'],\n",
       " 'Responsável': ['Bruna Luana Bezerra da Silva'],\n",
       " 'Fase': ['Construção virtual 02'],\n",
       " 'Tipo': ['Concepção de projeto'],\n",
       " 'Local': ['Pavimento Tipo'],\n",
       " 'Prazo': ['-'],\n",
       " 'Prioridade': ['Normal'],\n",
       " 'Última alteração': ['Edited by Camarás Dos Camarás 01-08-2022 09:58'],\n",
       " 'Primeira alteração': ['Created by Lucas Ffaf 07-05-2021 02:13']}"
      ]
     },
     "execution_count": 9,
     "metadata": {},
     "output_type": "execute_result"
    }
   ],
   "source": [
    "id = []\n",
    "titulo = []\n",
    "status = []\n",
    "descricao = []\n",
    "empreendimento = []\n",
    "etiqueta = []\n",
    "responsavel = []\n",
    "fase = []\n",
    "tipo = []\n",
    "area = []\n",
    "prazo = []\n",
    "prioridade =[]\n",
    "ultimaAlteracao = []\n",
    "primeiraAlteracao = []\n",
    "\n",
    "    \n",
    "dicionario = {}\n",
    "for i in browser.htmlList:\n",
    "    coleta = ScrapperColect(i)\n",
    "    dicBase = coleta.dictionaryGeneration()\n",
    "    \n",
    "    id.append(dicBase.get(\"ID\"))\n",
    "    titulo.append(dicBase.get(\"Título\"))    \n",
    "    status.append(dicBase.get(\"Status\")) \n",
    "    descricao.append(dicBase.get(\"Descrição\")) \n",
    "    empreendimento.append(dicBase.get(\"Empreendimento\"))\n",
    "    etiqueta.append(dicBase.get(\"Etiqueta\"))\n",
    "    responsavel.append(dicBase.get(\"Responsável\"))\n",
    "    fase.append(dicBase.get(\"Fase\"))\n",
    "    tipo.append(dicBase.get(\"Tipo\"))\n",
    "    area.append(dicBase.get(\"Local\"))\n",
    "    prazo.append(dicBase.get(\"Prazo\"))\n",
    "    prioridade.append(dicBase.get(\"Prioridade\"))\n",
    "    ultimaAlteracao.append(dicBase.get(\"Última modificação\"))\n",
    "    primeiraAlteracao.append(dicBase.get(\"Primeira alteração\"))\n",
    "    \n",
    "    \n",
    "dicionario[\"ID\"] = id\n",
    "dicionario[\"Título\"] = titulo\n",
    "dicionario[\"Status\"] = status\n",
    "dicionario[\"Descrição\"] = descricao\n",
    "dicionario[\"Empreendimento\"] = empreendimento\n",
    "dicionario[\"Etiqueta\"] = etiqueta\n",
    "dicionario[\"Responsável\"] = responsavel\n",
    "dicionario[\"Fase\"] = fase\n",
    "dicionario[\"Tipo\"] = tipo\n",
    "dicionario[\"Local\"] = area\n",
    "dicionario[\"Prazo\"] = prazo\n",
    "dicionario[\"Prioridade\"] = prioridade\n",
    "dicionario[\"Última alteração\"] = ultimaAlteracao\n",
    "dicionario[\"Primeira alteração\"] = primeiraAlteracao\n",
    "\n",
    "dicionario\n"
   ]
  },
  {
   "cell_type": "code",
   "execution_count": 7,
   "metadata": {},
   "outputs": [
    {
     "data": {
      "text/plain": [
       "0"
      ]
     },
     "execution_count": 7,
     "metadata": {},
     "output_type": "execute_result"
    }
   ],
   "source": [
    "len(browser.htmlList)"
   ]
  }
 ],
 "metadata": {
  "kernelspec": {
   "display_name": "Python 3.10.4 ('virtual-scrapper': venv)",
   "language": "python",
   "name": "python3"
  },
  "language_info": {
   "codemirror_mode": {
    "name": "ipython",
    "version": 3
   },
   "file_extension": ".py",
   "mimetype": "text/x-python",
   "name": "python",
   "nbconvert_exporter": "python",
   "pygments_lexer": "ipython3",
   "version": "3.10.4"
  },
  "orig_nbformat": 4,
  "vscode": {
   "interpreter": {
    "hash": "e68bd802ef4e5a3833a26c0323119a28e22b58b7c50caf472156dcfc65b7061a"
   }
  }
 },
 "nbformat": 4,
 "nbformat_minor": 2
}
