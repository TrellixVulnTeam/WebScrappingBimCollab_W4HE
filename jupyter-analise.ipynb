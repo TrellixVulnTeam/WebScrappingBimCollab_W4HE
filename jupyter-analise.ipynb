{
 "cells": [
  {
   "cell_type": "markdown",
   "metadata": {},
   "source": [
    "#Análise dos dados coletados do BimCollab"
   ]
  },
  {
   "cell_type": "code",
   "execution_count": 8,
   "metadata": {},
   "outputs": [],
   "source": [
    "from backend.scrapper.scrapper import ScrapperResearch, ScrapperColect\n",
    "from data.dataSave import dbBuildAnalysys\n",
    "\n",
    "email = \"oscarfreire@projete5d.com.br\"\n",
    "password = \"@Timeprojete5d\"\n",
    "local_save = \"data\"\n",
    "\n",
    "browser = ScrapperResearch(email,password,local_save)\n",
    "\n",
    "browser.openResearch()\n",
    "browser.addLogin()\n",
    "browser.addSenha()\n",
    "browser.addCompany()\n",
    "browser.selectProject()\n",
    "browser.goToIssues()\n",
    "browser.openAll()\n",
    "browser.htmlGenerator()\n",
    "\n",
    "id = []\n",
    "titulo = []\n",
    "status = []\n",
    "descricao = []\n",
    "empreendimento = []\n",
    "etiqueta = []\n",
    "responsavel = []\n",
    "fase = []\n",
    "tipo = []\n",
    "area = []\n",
    "prazo = []\n",
    "prioridade =[]\n",
    "ultimaAlteracao = []\n",
    "primeiraAlteracao = []\n",
    "\n",
    "for i in browser.htmlList:\n",
    "    coleta = ScrapperColect(i)\n",
    "    \n",
    "    dicionario = coleta.dictionaryGeneration()\n",
    "    \n",
    "dataframe = dbBuildAnalysys(dicionario)\n",
    "    \n",
    "    \n",
    "    \n"
   ]
  },
  {
   "cell_type": "code",
   "execution_count": null,
   "metadata": {},
   "outputs": [],
   "source": [
    "dataframe"
   ]
  }
 ],
 "metadata": {
  "interpreter": {
   "hash": "e68bd802ef4e5a3833a26c0323119a28e22b58b7c50caf472156dcfc65b7061a"
  },
  "kernelspec": {
   "display_name": "Python 3.10.4 ('virtual-scrapper': venv)",
   "language": "python",
   "name": "python3"
  },
  "language_info": {
   "codemirror_mode": {
    "name": "ipython",
    "version": 3
   },
   "file_extension": ".py",
   "mimetype": "text/x-python",
   "name": "python",
   "nbconvert_exporter": "python",
   "pygments_lexer": "ipython3",
   "version": "3.10.4"
  },
  "orig_nbformat": 4
 },
 "nbformat": 4,
 "nbformat_minor": 2
}
